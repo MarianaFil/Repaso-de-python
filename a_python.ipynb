{
  "nbformat": 4,
  "nbformat_minor": 0,
  "metadata": {
    "colab": {
      "name": "Untitled7.ipynb",
      "provenance": []
    },
    "kernelspec": {
      "name": "python3",
      "display_name": "Python 3"
    },
    "language_info": {
      "name": "python"
    }
  },
  "cells": [
    {
      "cell_type": "markdown",
      "metadata": {
        "id": "LAri8S6vyb9E"
      },
      "source": [
        ""
      ]
    },
    {
      "cell_type": "code",
      "metadata": {
        "colab": {
          "base_uri": "https://localhost:8080/",
          "height": 129
        },
        "id": "9kGs_K43yrkO",
        "outputId": "5e10fc30-ff73-4184-99df-c60edaf37c58"
      },
      "source": [
        "Nombre=Mariana\n",
        "carrera = Ingeniería en Computación\n",
        "print(\"Hola\" , nombre)\n",
        "print(\"Hola\" + nombre)\n",
        "\n",
        "print(\"Tu nombre es \" , nombre , \"y estudiaste\" , carrera)\n",
        "\n",
        "# con format\n",
        "\n",
        "print(\"Tu nombre es {} y estudias {}\".format( \"Mariana\" , carrera ) )\n",
        "\n",
        "# con el operador f\"\"\n",
        "\n",
        "print( f\"Tu nombre es {nombre} y estudiaste {carrera}\" )\n",
        "\n",
        "# salta de linea al final\n",
        "\n",
        "print(nombre)\n",
        "print(\" \")\n",
        "print(carrera)"
      ],
      "execution_count": 6,
      "outputs": [
        {
          "output_type": "error",
          "ename": "SyntaxError",
          "evalue": "ignored",
          "traceback": [
            "\u001b[0;36m  File \u001b[0;32m\"<ipython-input-6-e063867e8dba>\"\u001b[0;36m, line \u001b[0;32m2\u001b[0m\n\u001b[0;31m    carrera = Ingeniería en Computación\u001b[0m\n\u001b[0m                          ^\u001b[0m\n\u001b[0;31mSyntaxError\u001b[0m\u001b[0;31m:\u001b[0m invalid syntax\n"
          ]
        }
      ]
    },
    {
      "cell_type": "code",
      "metadata": {
        "id": "bbaQ45lSzA3V"
      },
      "source": [
        "Entrada de datos\n",
        "función imput\n",
        "Sirve para pedir datos al usuario, equivalente al scanf del lenguaje \"C\" o a la clase Scanner de Java, siempre regresa un Strin"
      ],
      "execution_count": null,
      "outputs": []
    },
    {
      "cell_type": "code",
      "metadata": {
        "colab": {
          "base_uri": "https://localhost:8080/",
          "height": 527
        },
        "id": "ep0nghoYzE2s",
        "outputId": "151eb93f-b8e7-4b3e-b164-96331d3dbf7d"
      },
      "source": [
        "nombre = input(\"Introduce tu nombre\")\n",
        "print(nombre)\n",
        "\n",
        "semestre = input(\"En qué semestre estas?\")\n",
        "print(semestre)\n",
        "semestre = int(semestre) + 1\n",
        "print(semestre)\n",
        "semestre = semestre + 1\n",
        "print(semestre)\n",
        "\n",
        "semestre = int( input(\"Cuál es tu semestre?\") )\n",
        "semestre = semestre + 1\n",
        "print(semestre)"
      ],
      "execution_count": 5,
      "outputs": [
        {
          "output_type": "error",
          "ename": "KeyboardInterrupt",
          "evalue": "ignored",
          "traceback": [
            "\u001b[0;31m---------------------------------------------------------------------------\u001b[0m",
            "\u001b[0;31mKeyboardInterrupt\u001b[0m                         Traceback (most recent call last)",
            "\u001b[0;32m/usr/local/lib/python3.7/dist-packages/ipykernel/kernelbase.py\u001b[0m in \u001b[0;36m_input_request\u001b[0;34m(self, prompt, ident, parent, password)\u001b[0m\n\u001b[1;32m    728\u001b[0m             \u001b[0;32mtry\u001b[0m\u001b[0;34m:\u001b[0m\u001b[0;34m\u001b[0m\u001b[0;34m\u001b[0m\u001b[0m\n\u001b[0;32m--> 729\u001b[0;31m                 \u001b[0mident\u001b[0m\u001b[0;34m,\u001b[0m \u001b[0mreply\u001b[0m \u001b[0;34m=\u001b[0m \u001b[0mself\u001b[0m\u001b[0;34m.\u001b[0m\u001b[0msession\u001b[0m\u001b[0;34m.\u001b[0m\u001b[0mrecv\u001b[0m\u001b[0;34m(\u001b[0m\u001b[0mself\u001b[0m\u001b[0;34m.\u001b[0m\u001b[0mstdin_socket\u001b[0m\u001b[0;34m,\u001b[0m \u001b[0;36m0\u001b[0m\u001b[0;34m)\u001b[0m\u001b[0;34m\u001b[0m\u001b[0;34m\u001b[0m\u001b[0m\n\u001b[0m\u001b[1;32m    730\u001b[0m             \u001b[0;32mexcept\u001b[0m \u001b[0mException\u001b[0m\u001b[0;34m:\u001b[0m\u001b[0;34m\u001b[0m\u001b[0;34m\u001b[0m\u001b[0m\n",
            "\u001b[0;32m/usr/local/lib/python3.7/dist-packages/jupyter_client/session.py\u001b[0m in \u001b[0;36mrecv\u001b[0;34m(self, socket, mode, content, copy)\u001b[0m\n\u001b[1;32m    802\u001b[0m         \u001b[0;32mtry\u001b[0m\u001b[0;34m:\u001b[0m\u001b[0;34m\u001b[0m\u001b[0;34m\u001b[0m\u001b[0m\n\u001b[0;32m--> 803\u001b[0;31m             \u001b[0mmsg_list\u001b[0m \u001b[0;34m=\u001b[0m \u001b[0msocket\u001b[0m\u001b[0;34m.\u001b[0m\u001b[0mrecv_multipart\u001b[0m\u001b[0;34m(\u001b[0m\u001b[0mmode\u001b[0m\u001b[0;34m,\u001b[0m \u001b[0mcopy\u001b[0m\u001b[0;34m=\u001b[0m\u001b[0mcopy\u001b[0m\u001b[0;34m)\u001b[0m\u001b[0;34m\u001b[0m\u001b[0;34m\u001b[0m\u001b[0m\n\u001b[0m\u001b[1;32m    804\u001b[0m         \u001b[0;32mexcept\u001b[0m \u001b[0mzmq\u001b[0m\u001b[0;34m.\u001b[0m\u001b[0mZMQError\u001b[0m \u001b[0;32mas\u001b[0m \u001b[0me\u001b[0m\u001b[0;34m:\u001b[0m\u001b[0;34m\u001b[0m\u001b[0;34m\u001b[0m\u001b[0m\n",
            "\u001b[0;32m/usr/local/lib/python3.7/dist-packages/zmq/sugar/socket.py\u001b[0m in \u001b[0;36mrecv_multipart\u001b[0;34m(self, flags, copy, track)\u001b[0m\n\u001b[1;32m    624\u001b[0m         \"\"\"\n\u001b[0;32m--> 625\u001b[0;31m         \u001b[0mparts\u001b[0m \u001b[0;34m=\u001b[0m \u001b[0;34m[\u001b[0m\u001b[0mself\u001b[0m\u001b[0;34m.\u001b[0m\u001b[0mrecv\u001b[0m\u001b[0;34m(\u001b[0m\u001b[0mflags\u001b[0m\u001b[0;34m,\u001b[0m \u001b[0mcopy\u001b[0m\u001b[0;34m=\u001b[0m\u001b[0mcopy\u001b[0m\u001b[0;34m,\u001b[0m \u001b[0mtrack\u001b[0m\u001b[0;34m=\u001b[0m\u001b[0mtrack\u001b[0m\u001b[0;34m)\u001b[0m\u001b[0;34m]\u001b[0m\u001b[0;34m\u001b[0m\u001b[0;34m\u001b[0m\u001b[0m\n\u001b[0m\u001b[1;32m    626\u001b[0m         \u001b[0;31m# have first part already, only loop while more to receive\u001b[0m\u001b[0;34m\u001b[0m\u001b[0;34m\u001b[0m\u001b[0;34m\u001b[0m\u001b[0m\n",
            "\u001b[0;32mzmq/backend/cython/socket.pyx\u001b[0m in \u001b[0;36mzmq.backend.cython.socket.Socket.recv\u001b[0;34m()\u001b[0m\n",
            "\u001b[0;32mzmq/backend/cython/socket.pyx\u001b[0m in \u001b[0;36mzmq.backend.cython.socket.Socket.recv\u001b[0;34m()\u001b[0m\n",
            "\u001b[0;32mzmq/backend/cython/socket.pyx\u001b[0m in \u001b[0;36mzmq.backend.cython.socket._recv_copy\u001b[0;34m()\u001b[0m\n",
            "\u001b[0;32m/usr/local/lib/python3.7/dist-packages/zmq/backend/cython/checkrc.pxd\u001b[0m in \u001b[0;36mzmq.backend.cython.checkrc._check_rc\u001b[0;34m()\u001b[0m\n",
            "\u001b[0;31mKeyboardInterrupt\u001b[0m: ",
            "\nDuring handling of the above exception, another exception occurred:\n",
            "\u001b[0;31mKeyboardInterrupt\u001b[0m                         Traceback (most recent call last)",
            "\u001b[0;32m<ipython-input-5-8f9d00b29575>\u001b[0m in \u001b[0;36m<module>\u001b[0;34m()\u001b[0m\n\u001b[0;32m----> 1\u001b[0;31m \u001b[0mnombre\u001b[0m \u001b[0;34m=\u001b[0m \u001b[0minput\u001b[0m\u001b[0;34m(\u001b[0m\u001b[0;34m\"Introduce tu nombre\"\u001b[0m\u001b[0;34m)\u001b[0m\u001b[0;34m\u001b[0m\u001b[0;34m\u001b[0m\u001b[0m\n\u001b[0m\u001b[1;32m      2\u001b[0m \u001b[0mprint\u001b[0m\u001b[0;34m(\u001b[0m\u001b[0mnombre\u001b[0m\u001b[0;34m)\u001b[0m\u001b[0;34m\u001b[0m\u001b[0;34m\u001b[0m\u001b[0m\n\u001b[1;32m      3\u001b[0m \u001b[0;34m\u001b[0m\u001b[0m\n\u001b[1;32m      4\u001b[0m \u001b[0msemestre\u001b[0m \u001b[0;34m=\u001b[0m \u001b[0minput\u001b[0m\u001b[0;34m(\u001b[0m\u001b[0;34m\"En qué semestre estas?\"\u001b[0m\u001b[0;34m)\u001b[0m\u001b[0;34m\u001b[0m\u001b[0;34m\u001b[0m\u001b[0m\n\u001b[1;32m      5\u001b[0m \u001b[0mprint\u001b[0m\u001b[0;34m(\u001b[0m\u001b[0msemestre\u001b[0m\u001b[0;34m)\u001b[0m\u001b[0;34m\u001b[0m\u001b[0;34m\u001b[0m\u001b[0m\n",
            "\u001b[0;32m/usr/local/lib/python3.7/dist-packages/ipykernel/kernelbase.py\u001b[0m in \u001b[0;36mraw_input\u001b[0;34m(self, prompt)\u001b[0m\n\u001b[1;32m    702\u001b[0m             \u001b[0mself\u001b[0m\u001b[0;34m.\u001b[0m\u001b[0m_parent_ident\u001b[0m\u001b[0;34m,\u001b[0m\u001b[0;34m\u001b[0m\u001b[0;34m\u001b[0m\u001b[0m\n\u001b[1;32m    703\u001b[0m             \u001b[0mself\u001b[0m\u001b[0;34m.\u001b[0m\u001b[0m_parent_header\u001b[0m\u001b[0;34m,\u001b[0m\u001b[0;34m\u001b[0m\u001b[0;34m\u001b[0m\u001b[0m\n\u001b[0;32m--> 704\u001b[0;31m             \u001b[0mpassword\u001b[0m\u001b[0;34m=\u001b[0m\u001b[0;32mFalse\u001b[0m\u001b[0;34m,\u001b[0m\u001b[0;34m\u001b[0m\u001b[0;34m\u001b[0m\u001b[0m\n\u001b[0m\u001b[1;32m    705\u001b[0m         )\n\u001b[1;32m    706\u001b[0m \u001b[0;34m\u001b[0m\u001b[0m\n",
            "\u001b[0;32m/usr/local/lib/python3.7/dist-packages/ipykernel/kernelbase.py\u001b[0m in \u001b[0;36m_input_request\u001b[0;34m(self, prompt, ident, parent, password)\u001b[0m\n\u001b[1;32m    732\u001b[0m             \u001b[0;32mexcept\u001b[0m \u001b[0mKeyboardInterrupt\u001b[0m\u001b[0;34m:\u001b[0m\u001b[0;34m\u001b[0m\u001b[0;34m\u001b[0m\u001b[0m\n\u001b[1;32m    733\u001b[0m                 \u001b[0;31m# re-raise KeyboardInterrupt, to truncate traceback\u001b[0m\u001b[0;34m\u001b[0m\u001b[0;34m\u001b[0m\u001b[0;34m\u001b[0m\u001b[0m\n\u001b[0;32m--> 734\u001b[0;31m                 \u001b[0;32mraise\u001b[0m \u001b[0mKeyboardInterrupt\u001b[0m\u001b[0;34m\u001b[0m\u001b[0;34m\u001b[0m\u001b[0m\n\u001b[0m\u001b[1;32m    735\u001b[0m             \u001b[0;32melse\u001b[0m\u001b[0;34m:\u001b[0m\u001b[0;34m\u001b[0m\u001b[0;34m\u001b[0m\u001b[0m\n\u001b[1;32m    736\u001b[0m                 \u001b[0;32mbreak\u001b[0m\u001b[0;34m\u001b[0m\u001b[0;34m\u001b[0m\u001b[0m\n",
            "\u001b[0;31mKeyboardInterrupt\u001b[0m: "
          ]
        }
      ]
    },
    {
      "cell_type": "markdown",
      "metadata": {
        "id": "MRdain21zRJ5"
      },
      "source": [
        "TAREA MORAL\n",
        "Investigar los siguientes conceptos en Python\n",
        "\n",
        "Operadores:\n",
        "\n",
        "aritmeticos.\n",
        "lógicos\n",
        "booleanos (and, or, Not)\n",
        "Aritmetica\n",
        "\n",
        "asignación\n",
        "agrupacion de ecuaciones con parentesis (procedencia de operadores)\n",
        "Comentarios\n",
        "\n",
        "de simple línea\n",
        "de linea multiple\n",
        "Tipos de datos en Python\n",
        "\n",
        "Repaso del tpo de dato String (str)\n",
        "Es un tipo de dato muy versatil. Los tipos de dato en Python en realidad son objetos (POO), es decir, tiene atributos y métodos.\n",
        "\n",
        "Los valores internos de un String se almacenan como un arreglo. Es decir, se accede a los elementos con el operador [ indice ]"
      ]
    },
    {
      "cell_type": "code",
      "metadata": {
        "id": "SvGPnBAxzSVc"
      },
      "source": [
        "frase = \"El conocimineto me persigue... pero yo soy más rápido!!+\"\n",
        "\n",
        "# como se almacena la informacion\n",
        "\n",
        "print(frase[ 3 ])\n",
        "\n",
        "print( len( frase ) )\n",
        "\n",
        "print( frase[55] )\n",
        "\n",
        "# Indexado negativo\n",
        "\n",
        "print( frase[ -8 ] )\n",
        "\n",
        "# Iterar sobre un string\n",
        "\n",
        "for letra in frase:\n",
        "    print(letra)\n",
        "print(\"fin\")"
      ],
      "execution_count": null,
      "outputs": []
    },
    {
      "cell_type": "markdown",
      "metadata": {
        "id": "R1vy4e_8zWwS"
      },
      "source": [
        "slicing (rebanado)\n",
        "Es posible selesccionar segmntos de una lista (str) por medio de la sintaxis ´[\n",
        "\n",
        "Por defecto:\n",
        "\n",
        "Inicio = 0 , -1\n",
        "Tope = tamaño de la lista(str),no incluye el tope , -0\n",
        "Incremento = 1 , -1"
      ]
    },
    {
      "cell_type": "code",
      "metadata": {
        "id": "3pJOS_rdzbRS"
      },
      "source": [
        "nombre = \"Facultad de Estudios Superiores Aragón\"\n",
        "\n",
        "print( nombre[0] )\n",
        "print( nombre [-1] )\n",
        "\n",
        "#slicing\n",
        "\n",
        "print( nombre[ 2 : 5 : 1] )\n",
        "print( nombre[ 0 : 8 : 1] )\n",
        "\n",
        "#slicing con indexado negativo (-)\n",
        "\n",
        "print( nombre[ -6 :  : 1] )"
      ],
      "execution_count": null,
      "outputs": []
    },
    {
      "cell_type": "markdown",
      "metadata": {
        "id": "IY7Cy_UQzj72"
      },
      "source": [
        "String como objeto\n",
        "El tipo de dato String es una clase por lo tanto tiene atributos y metodos.\n",
        "\n",
        "Ayuda en línea de Python\n",
        "Hay dos funciones que te dan ayuda en Python:\n",
        "\n",
        "dir()\n",
        "help()"
      ]
    },
    {
      "cell_type": "code",
      "metadata": {
        "id": "eYJxYcPczktj"
      },
      "source": [
        "apellidos = \"garcía pérez\"\n",
        "\n",
        "print( apellidos.capitalize() )\n",
        "print( apellidos.title() )\n",
        "print( apellidos. find('a') )\n",
        "print( \"LOPEZ PEREZ\" .lower())\n",
        "\n",
        "\n",
        "numeros = \"            1,         2,         3       ,4,5,6     \"\n",
        "num_divididos =  numeros.split(',')\n",
        "print( num_divididos)\n",
        "\n",
        "num_divididos[0] = num_divididos[0].strip()\n",
        "num_divididos[1] = num_divididos[1].strip()\n",
        "num_divididos[2] = num_divididos[2].strip()\n",
        "num_divididos[3] = num_divididos[3].strip()\n",
        "num_divididos[4] = num_divididos[4].strip()\n",
        "num_divididos[5] = num_divididos[5].strip()\n",
        "print( num_divididos )\n",
        "\n",
        "for elem in num_divididos:\n",
        "    print( elem )\n",
        "\n",
        "for index in range(6):\n",
        "    num_divididos[index] = num_divididos[index].strip()\n",
        "print( num_divididos )"
      ],
      "execution_count": null,
      "outputs": []
    },
    {
      "cell_type": "markdown",
      "metadata": {
        "id": "w-Ui5ZdEzpRX"
      },
      "source": [
        "Estructura de control\n",
        "if\n",
        "if-else\n",
        "switch - case (En Python se implementa con IF)\n",
        "while y do-while"
      ]
    },
    {
      "cell_type": "code",
      "metadata": {
        "id": "K7STmvajztkz"
      },
      "source": [
        "# if\n",
        "\n",
        "a = 2\n",
        "b = 3\n",
        "c = 4\n",
        "print( a > b)\n",
        "\n",
        "if a > b :\n",
        "    print(\"Estamos en el IF\")\n",
        "    print(\"A es mayor que B\")\n",
        "print(\"Fin del programa\")\n",
        "\n",
        "#################\n",
        "\n",
        "if c > a:\n",
        "    if c > b:\n",
        "        print(\"C es el mayor de los 3\")\n",
        "\n",
        "if c>a and c>b:\n",
        "    print(\"C es el mayor de los 3\")\n",
        "\n",
        "# if else, cual de las 3 variables es la mayor\n",
        "\n",
        "if a > b:\n",
        "    if a > c:\n",
        "        print(\"A es la mayor\")\n",
        "    else:\n",
        "        print(\"C es la mayor\")\n",
        "else:\n",
        "    if b > c:\n",
        "        print(\"B es la mayor\")\n",
        "    else:\n",
        "        print(\"C es la mayor\")\n",
        "\n",
        "#if - else tiene una notacion especal cuando se encadena \n",
        "\n",
        "if a > b:\n",
        "    if a > c:\n",
        "        print(\"A es la mayor\")\n",
        "    else:\n",
        "        print(\"C es la mayor\")\n",
        "elif b > c:\n",
        "        print(\"B es la mayor\")\n",
        "else:\n",
        "        print(\"C es la mayor\")\n",
        "\n",
        "#pedir al usuario un numero entre 1 y 7, e imprimir el dia de la semana\n",
        "\n",
        "opcion = int(input(\"Introduce un numero entre 1 y 7:\") )\n",
        "if opcion > 0 and opcion < 8:\n",
        "    if opcion == 1:\n",
        "        print(\"Lunes\")\n",
        "    elif opcion == 2:\n",
        "        print(\"Martes\")\n",
        "    elif opcion == 3:\n",
        "        print(\"Miércoles\")\n",
        "    elif opcion == 4:\n",
        "        print(\"Jueves\")\n",
        "    elif opcion == 5:\n",
        "        print(\"Viernes\")\n",
        "    elif opcion == 6:\n",
        "        print(\"Sábado\")\n",
        "    elif opcion == 7:\n",
        "        print(\"Domingo\")\n",
        "\n",
        "else:\n",
        "    print(\"Tu dato esta fuera de los solicitado\")"
      ],
      "execution_count": null,
      "outputs": []
    },
    {
      "cell_type": "code",
      "metadata": {
        "id": "BC6GFboxz_DT"
      },
      "source": [
        "# FOR y range\n",
        "\n",
        "## range() es una funcion que te proporciona un enumerado\n",
        "\n",
        "algo = range(4,10,2)\n",
        "frutas = ['Pera' , 'Manzana' , 'Aguacate' , 'Kiwi' , 'Platano']\n",
        "nombre = \"Santiago\"\n",
        "\n",
        "print(algo)\n",
        "\n",
        "for x in algo: #for(int x=4 ; x<10 ; x=x+2 )\n",
        "    print(x)\n",
        "\n",
        "for index in range(0,5,1):\n",
        "    print(frutas[index])\n",
        "\n",
        "# FOR e iteradores (For-each)\n",
        "\n",
        "for fruit in frutas:\n",
        "    print( fruit )\n",
        "\n",
        "for letra in nombre:\n",
        "    print(letra.upper())"
      ],
      "execution_count": null,
      "outputs": []
    },
    {
      "cell_type": "code",
      "metadata": {
        "id": "9Lw_-JlR0GaS"
      },
      "source": [
        "# while\n",
        "\n",
        "# hacer un programa que imprima del 1 al 10\n",
        "\n",
        "control = 1\n",
        "\n",
        "while control <= 10:\n",
        "    print( control )\n",
        "    control += 1"
      ],
      "execution_count": null,
      "outputs": []
    },
    {
      "cell_type": "markdown",
      "metadata": {
        "id": "VJwiVDULz4r-"
      },
      "source": [
        "Funciones\n",
        "Es un segmento de código que recibe, cero, o mas valores de entrada, reliza una o un conjunto de operaciones de forma interna y regresa un solo tipo de dato, aunque ese valor sea None (void).\n",
        "\n",
        "Las funciones se declaran con la palabra reservada def"
      ]
    },
    {
      "cell_type": "code",
      "metadata": {
        "id": "WZQwo0Em0Rii"
      },
      "source": [
        "# funcion suma\n",
        "\n",
        "def suma( a, b):\n",
        "    c = 0\n",
        "    c = a + b \n",
        "    return c\n",
        "\n",
        "suma( 4 , 5 )\n",
        "\n",
        "# funcion que salude personas\n",
        "\n",
        "def saludar( nombre ):\n",
        "    print(f\" Hola {nombre}, ¿Cómo estas?\")\n",
        "    return None\n",
        "\n",
        "saludar(\"Jesus\")\n",
        "nombre = \"Santiago\"\n",
        "saludar(nombre)\n",
        "\n",
        "res = saludar(nombre)\n",
        "print(res)"
      ],
      "execution_count": null,
      "outputs": []
    },
    {
      "cell_type": "markdown",
      "metadata": {
        "id": "_XNL8dAx0V63"
      },
      "source": [
        "Default y funciones\n",
        "Hay ocasiones que es necesario declarar valores por defecto en los argumentos de función."
      ]
    },
    {
      "cell_type": "code",
      "metadata": {
        "id": "Ks2RlC-P0XBc"
      },
      "source": [
        "def saludar( nombre , veces=5 ):\n",
        "    for x in range( veces ):\n",
        "        print(f\"{x}.- Hola { nombre} \")\n",
        "\n",
        "saludar( \"Juan\" , 3 )\n",
        "\n",
        "# argumentos con llamadas no posicionales\n",
        "\n",
        "saludar( veces=6 , nombre=\"Juan\" )"
      ],
      "execution_count": null,
      "outputs": []
    },
    {
      "cell_type": "markdown",
      "metadata": {
        "id": "AOG6HBAC0fL4"
      },
      "source": [
        "Listas, Diccionarios, Tuplas y Sets\n",
        "Listas\n",
        "Son estructuras de datos declaradas en Python, funcionan como los arreglos en Java y C, con algunas diferencias.\n",
        "\n",
        "Usan el selector.\n",
        "Estructura secuencial (0 ... n)\n",
        "Son mutables.\n",
        "Puede contener valores de diferente tipo: [1 , \"manzana\" , True , 1.23].\n",
        "Pueden ser anidados (Multidimensional)\n",
        "Se crean usando el operador [ ] y list()"
      ]
    },
    {
      "cell_type": "code",
      "metadata": {
        "id": "x6397hfG0ehb"
      },
      "source": [
        "frutas = [\"pera\" , \"lima\" , \"limón\" , \"kiwi\" , \"manzana \"]\n",
        "print(frutas)\n",
        "print( frutas[1] )\n",
        "frutas[1] = \"mango\"\n",
        "print(frutas)\n",
        "persona = [\"José\" , 1.78 , 19 , False , 70.5 , \"ICO\" ]\n",
        "print(persona)\n",
        "print(persona[-1])\n",
        "\n",
        "#Slicing\n",
        "\n",
        "numeros = [2,4,6,8,10,12,14,16,18,20]\n",
        "print(numeros[4:7])"
      ],
      "execution_count": null,
      "outputs": []
    },
    {
      "cell_type": "code",
      "metadata": {
        "id": "YjMvRuvI0pDJ"
      },
      "source": [
        "# Listas multi dimensionales\n",
        "\n",
        "bds=[\"mysql\" , \"Oracle\" , \"BD2\" , \"Mongo\" , \"SQLite\"]\n",
        "leng_prog = [ \"C\" , \"Java\" , \"JS\" , \"C++\" , \"C#\" , \"Python\" ]\n",
        "tecnologias = [ bds , leng_prog ]\n",
        "\n",
        "print( tecnologias )\n",
        "[\n",
        "    ['mysql', 'Oracle', 'BD2', 'Mongo', 'SQLite'], \n",
        "    ['C', 'Java', 'JS', 'C++', 'C#', 'Python']\n",
        "]\n",
        "\n",
        "\n",
        "print( tecnologias[1][3] ) #c++\n",
        "print( tecnologias[ 0 ][ 4 ] ) #Sqlite\n",
        "print( tecnologias[ 0 ][ -1 ] ) #Slite\n",
        "print( tecnologias[1][2:5])"
      ],
      "execution_count": null,
      "outputs": []
    },
    {
      "cell_type": "markdown",
      "metadata": {
        "id": "Ng0-3kgu0s0Q"
      },
      "source": [
        "La clase LIST\n",
        "El tipo de dato list en realidad es una clase que tienen metodos."
      ]
    },
    {
      "cell_type": "code",
      "metadata": {
        "id": "jWh7V7qm0tmQ"
      },
      "source": [
        "numeros = [ 100, 23, 45, 23, 55, 1, 22, 101, 99, 10, 13]\n",
        "type( numeros )\n",
        "dir( numeros )\n",
        "print( numeros.sort() ) #sort: ordena internamente la lista del menor al mayor.\n",
        "print( numeros )\n",
        "numeros.reverse()\n",
        "print( numeros )\n",
        "\n",
        "#Eliminar elementos de un arreglo: 2 formas\n",
        "#FORMA 1 -----  utilizando el metodo remove\n",
        "\n",
        "numeros.remove(55)\n",
        "print( numeros )\n",
        "\n",
        "#FORMA 2: es utilizando el operador así:\n",
        "\n",
        "del numeros\n",
        "print( numeros )\n",
        "\n",
        "# append: agrega elementos al final\n",
        "\n",
        "numeros.append(0)\n",
        "numeros.append(33)\n",
        "numeros.sort()\n",
        "numeros.reverse()\n",
        "print( numeros )\n",
        "\n",
        "#insertar entre otros dos un numero\n",
        "\n",
        "numeros.insert(3 , 60)\n",
        "print( numeros )\n",
        "n = numeros.pop()\n",
        "print(n)\n",
        "print( numeros )\n",
        "\n",
        "#sacar un numero de la lista\n",
        "\n",
        "n = numeros.pop(1)\n",
        "print(n)\n",
        "print( numeros )\n",
        "\n",
        "#extend: une dos listas( a la lista que ya teniamos le agrega los nuevos valores)\n",
        "\n",
        "mas_numeros = [400, 500, 600, 700]\n",
        "numeros.extend(mas_numeros)\n",
        "print( numeros )\n",
        "\n",
        "#vacia l contenido de la lista\n",
        "#se pone como comentario para que deje hacer lo demas:\n",
        "#        numeros.clear()\n",
        "#        print( numeros )\n",
        "\n",
        "# Listas y la estructura de control FOR\n",
        "\n",
        "for num in numeros:\n",
        "    print( f\"--> { num } <--\")"
      ],
      "execution_count": null,
      "outputs": []
    },
    {
      "cell_type": "markdown",
      "metadata": {
        "id": "WOHbbFcY08kR"
      },
      "source": [
        "Tuplas\n",
        "Estructura de dato lineal. Son inmutablesUsan menos espacio en memoria. Son utiles para declarar valores de consulta.Fuera de eso, las demas caracteristicas son las mismas que las LISTAS"
      ]
    },
    {
      "cell_type": "code",
      "metadata": {
        "id": "LBSjKbST09ag"
      },
      "source": [
        "datos_conexion = (\"123.234.145.23\" , \"Juan\" , 'patito123')\n",
        "print( datos_conexion[0] )"
      ],
      "execution_count": null,
      "outputs": []
    },
    {
      "cell_type": "markdown",
      "metadata": {
        "id": "N_Ex1wMn1Ct5"
      },
      "source": [
        "Diccionarios\n",
        "Estructura no lineal.\n",
        "Formada por pares llave-valor (\"key\" !valor)\n",
        "Donde valor puede ser de cualquier tipo (int, float, list, diccionario.)\n",
        "No se seleccionan con [ ]\n",
        "Su selector es por llave (key)\n",
        "Son mutables."
      ]
    },
    {
      "cell_type": "code",
      "metadata": {
        "id": "d5LqU-Ar1JPx"
      },
      "source": [
        "persona = { \"nombre\" : \"Jóse\" , \"edad\" : 39 , \"estatura\" : 1.5 }\n",
        "print( persona )\n",
        "print(f\"La estatura es: {persona['estatura'] } metros\")\n",
        "\n",
        "\n",
        "estudiante = {\n",
        "\"nombre\" : { \"nombres\" : [\"Juan\", \"Jose\"] ,\n",
        "\"paterno\" : \"Pérez\" ,\n",
        "\"materno\" : \" Garcia\"\n",
        "} ,\n",
        "\"edad\" : 19 ,\n",
        "\"estatura\" : 1.7,\n",
        "\"carrera\" : {\n",
        "\"escuela\" : \"UNAM FES Aragón\",\n",
        "\"Carrera\" : \"ICO\",  \n",
        "\"semestre\" : 2\n",
        "},\n",
        "\"direccion\" : {\n",
        "\"calle\" : \"Colorines\",\n",
        "\"num_exterior\" : 34,\n",
        "\"interior\" : \"apartmento B\"\n",
        "},\n",
        "\"telefonos\" : {\n",
        "\"casa\" : 556463663,\n",
        "\"celular\" : [\"+5255767664\" , \"+52557373773\"]\n",
        "}\n",
        "\n",
        "}\n",
        "\n",
        "\n",
        "# ejemplo\n",
        "print(estudiante['direccion']['calle'])\n",
        "print( f\"La estatura es es : {estudiante['estatura']}\")\n",
        "print( estudiante['telefonos']['celular'][1])\n",
        "estudiante['direccion']['calle'] = 'pancho López'\n",
        "print(estudiante['direccion'])\n",
        "estudiante['direccion']['colonia'] = 'Impulsora'\n",
        "print(estudiante['direccion'])\n",
        "# Combinar con la invocacion de métodos de los valores.\n",
        "# Mostrar el nombre del estudiante en mayusculas???\n",
        "print(estudiante['nombre']['nombres'][1].upper()) #.upper: cambiar a mayusculas\n",
        "\n",
        "# keys()\n",
        "llaves = estudiante.keys()\n",
        "print( llaves )\n",
        "print( \"-------------------\")\n",
        "for llave in llaves:\n",
        "    print(llave)\n",
        "    print(estudiante[llave])\n",
        "\n",
        "#values()\n",
        "vals = estudiante.values()\n",
        "for val in vals:\n",
        "    print(val)\n",
        "\n",
        "# ME salte tel temade"
      ],
      "execution_count": null,
      "outputs": []
    },
    {
      "cell_type": "markdown",
      "metadata": {
        "id": "sJU7pcBQ1NF_"
      },
      "source": [
        "Modulos.\n",
        "Un módulo en Python es quivalente a un package en java o un achivo .H en lenguaje C.\n",
        "\n",
        "En él, declaras código que quieras llamar varias veces, este codigo debe estar empaqutado ´principalmente en funciones."
      ]
    },
    {
      "cell_type": "code",
      "metadata": {
        "id": "2BECehkc0_la"
      },
      "source": [
        "import mimodulo\n",
        "\n",
        "mimodulo.mi_suma( 3 , 4)\n",
        "\n",
        "mimodulo.mi_print(\"hola k ase\")\n",
        "mimodulo.al_reves(\"hola k ase\")"
      ],
      "execution_count": null,
      "outputs": []
    },
    {
      "cell_type": "code",
      "metadata": {
        "id": "6V-M1t0Z1Uh9"
      },
      "source": [
        "from mimodulo import mi_print\n",
        "\n",
        "mi_print(\"Hola de nuevo mi chavo\")\n",
        "\n",
        "from mimodulo import mi_suma\n",
        "\n",
        "mi_suma( 5 , 5)\n",
        "\n",
        "from mimodulo import al_reves\n",
        "\n",
        "al_reves(\"Hola de nuevo mi chavo\")"
      ],
      "execution_count": null,
      "outputs": []
    },
    {
      "cell_type": "markdown",
      "metadata": {
        "id": "YarVbjZ31Xgk"
      },
      "source": [
        "import sys\n",
        "#dir(sys)\n",
        "\n",
        "print( sys.path )"
      ]
    },
    {
      "cell_type": "code",
      "metadata": {
        "id": "5LQANeV01izp"
      },
      "source": [
        "!pip install simple-chalk\n"
      ],
      "execution_count": null,
      "outputs": []
    },
    {
      "cell_type": "code",
      "metadata": {
        "id": "_KN_UsiM1jEJ"
      },
      "source": [
        "from simple_chalk import *\n",
        "print(chalk.blue(\"Texto en azul\"))\n",
        "whyNot = green.bgWhite.red.bgGray\n",
        "print(whyNot(\"this is red text with a grey background\"))\n",
        "verde_sobre_negro = bgBlack.green\n",
        "print(verde_sobre_negro(\"test\"))"
      ],
      "execution_count": null,
      "outputs": []
    },
    {
      "cell_type": "code",
      "metadata": {
        "id": "8rPfIfJH1jQX"
      },
      "source": [
        "Archivos\n",
        "Para abrir un archivo se utiliza la funcion open('nombre','AB')\n",
        "\n",
        "nombre = La ruta del archivo A = modo de apertura(escritura, lectura, ...)\n",
        "\n",
        "B = Formato ( t-texto o b-binario)\n",
        "\n",
        "Para leer tenemos las funciones:\n",
        "\n",
        "read()\n",
        "readLine()\n",
        "readLines()"
      ],
      "execution_count": null,
      "outputs": []
    },
    {
      "cell_type": "code",
      "metadata": {
        "id": "GSxxhxKc15qp"
      },
      "source": [
        "\"\"\"\n",
        "1,2,3,4,5,6,7\n",
        "8,9,10\n",
        "11,12\n",
        "13\n",
        "\"\"\"\n",
        "\n",
        "#pasa toda la informacion desde el otro archivo\n",
        "archivo = open( 'datos.dat' , 'rt' )\n",
        "info = archivo.read()\n",
        "print(info)\n",
        "\n",
        "# readline()   ---------> toma en cuenta hasta donde termina la primera linea, si lo vuelves a poner detectara la siguiete linea\n",
        "print(\"------------ readline ------------\")\n",
        "archivo = open('datos.dat' , 'rt')\n",
        "info = archivo.readline()\n",
        "print( info )\n",
        "info = archivo.readline()\n",
        "print( info )\n",
        "\n",
        "# readlines() -------> lee absolutamente todo\n",
        "print(\"-------- read lines ---------\")\n",
        "archivo = open('datos.dat' , 'rt')\n",
        "info = archivo.readlines()\n",
        "print( info )\n",
        "for index in range(len(info)):\n",
        "    info[ index ] = info[index].strip()   #strip:quita espacios y saltos de linea a la derecha e izquierda\n",
        "    \n",
        "print( info )\n",
        "\n",
        "numeros = []\n",
        "\n",
        "for grupo in info:\n",
        "    for numero in grupo.split(','):\n",
        "        numeros.append(numero)\n",
        "print(numeros)\n",
        "\n",
        "suma = 0\n",
        "for num in numeros:\n",
        "    suma += num\n",
        "\n",
        "print( suma )"
      ],
      "execution_count": null,
      "outputs": []
    },
    {
      "cell_type": "markdown",
      "metadata": {
        "id": "9LHpnJmOwb13"
      },
      "source": [
        "#Programación Orientada a Objetos\n",
        "La POO es un paradigma no soportado priginalmente por Python, Python aneja el paradigma Imperativo.\n",
        "\n",
        "Python simula la POO con la declaración de clases y haciendo referencia a un objeto de forma circular. **self** en python es equivalente a this de java\n",
        "\n",
        "1. Forma 1:\n",
        "\n",
        "class <Nombre de la clase>:\n",
        "      <definición de la clase>\n",
        "\n",
        "2.Forma 2:\n",
        "\n",
        "class <nombre de la clase>(<Super clase>):\n",
        "      <Definicion del cuerpo de la clase>\n",
        "\n",
        "\n",
        "La declaración de atributos se realiza por medio del constructor.\n",
        "\n",
        "Para hacer encapsulamiento de métodos o atributos se debe poner__(DOBLE GUION BAJO) previo a la declaración del atributo o método"
      ]
    },
    {
      "cell_type": "code",
      "metadata": {
        "id": "7MAUqSSjwddK"
      },
      "source": [
        "class Persona:\n",
        "    def __init__( self , n , e , est ):\n",
        "        self.__nombre = n\n",
        "        self.__edad = e\n",
        "        self.__estatura = est\n",
        "\n",
        "    def to_string( self ):\n",
        "        return \"Nombre:\" + self.__nombre + \" Edad:\" + str(self.__edad) + \" Estatura:\" + str(self.__estatura)\n",
        "    \n",
        "    def set_estatura( self , nueva_est):\n",
        "        if nueva_est > 0.10 and nueva_est < 2.5:\n",
        "            sel.__estatura = nueva_est   \n",
        "        else:\n",
        "            print(\"Error: Esa estatura no es posible\") \n",
        "\n",
        "    def get_estatura( self ):\n",
        "        return self.__estatura"
      ],
      "execution_count": 27,
      "outputs": []
    },
    {
      "cell_type": "code",
      "metadata": {
        "colab": {
          "base_uri": "https://localhost:8080/"
        },
        "id": "NN__QaEWxkjL",
        "outputId": "624244c5-ccd9-497f-d6ad-d6332cfa544b"
      },
      "source": [
        "per = Persona(\"Jose\" , 18 , 1.70)\n",
        "print(per.to_string())\n",
        "\n",
        "# encapsulamiento\n",
        "\n",
        "per.nombre = \"Pedro\"  #ESTO NO SE RECOMIENDA\n",
        "print(per.to_string())\n",
        "\n",
        "#per.estatura = 3.9\n",
        "per.set_estatura(4.9)\n",
        "print(per.to_string())\n",
        "\n",
        "print(\"Estatura:\" , end=\"\")\n",
        "#print( per.__estatura )\n",
        "print(per.get_estatura())"
      ],
      "execution_count": 28,
      "outputs": [
        {
          "output_type": "stream",
          "name": "stdout",
          "text": [
            "Nombre:Jose Edad:18 Estatura:1.7\n",
            "Nombre:Jose Edad:18 Estatura:1.7\n",
            "Error: Esa estatura no es posible\n",
            "Nombre:Jose Edad:18 Estatura:1.7\n",
            "Estatura:1.7\n"
          ]
        }
      ]
    },
    {
      "cell_type": "code",
      "metadata": {
        "id": "8Xdo-tY_wzDV"
      },
      "source": [
        "#Herencia\n",
        "class Estudiante( Persona ):\n",
        "  def _init_( self , nc, nombre, edad, est ):\n",
        "    self.__num_cta = nc\n",
        "    super()._init_(nombre,edad,est)\n",
        "    \n",
        "\n",
        "  def to_string( self ):\n",
        "    return super().to_string() + \" Numero de cuenta: \" + self.__num_cta"
      ],
      "execution_count": 32,
      "outputs": []
    },
    {
      "cell_type": "code",
      "metadata": {
        "colab": {
          "base_uri": "https://localhost:8080/",
          "height": 180
        },
        "id": "PCkutJfjwzGu",
        "outputId": "2968df92-2ae9-4b6b-b508-13a2f456b244"
      },
      "source": [
        "est= Estudiante ( \"3541872654\" , \"Jose\" , 18, 1.7)\n",
        "print( est.to_string())"
      ],
      "execution_count": 3,
      "outputs": [
        {
          "output_type": "error",
          "ename": "NameError",
          "evalue": "ignored",
          "traceback": [
            "\u001b[0;31m---------------------------------------------------------------------------\u001b[0m",
            "\u001b[0;31mNameError\u001b[0m                                 Traceback (most recent call last)",
            "\u001b[0;32m<ipython-input-3-412de18a17d9>\u001b[0m in \u001b[0;36m<module>\u001b[0;34m()\u001b[0m\n\u001b[0;32m----> 1\u001b[0;31m \u001b[0mest\u001b[0m\u001b[0;34m=\u001b[0m\u001b[0mEstudiante\u001b[0m\u001b[0;34m(\u001b[0m \u001b[0;34m\"3541872654\"\u001b[0m \u001b[0;34m,\u001b[0m \u001b[0;34m\"Jose\"\u001b[0m \u001b[0;34m,\u001b[0m \u001b[0;36m18\u001b[0m\u001b[0;34m,\u001b[0m \u001b[0;36m1.7\u001b[0m\u001b[0;34m)\u001b[0m\u001b[0;34m\u001b[0m\u001b[0;34m\u001b[0m\u001b[0m\n\u001b[0m\u001b[1;32m      2\u001b[0m \u001b[0mprint\u001b[0m\u001b[0;34m(\u001b[0m \u001b[0mest\u001b[0m\u001b[0;34m.\u001b[0m\u001b[0mto_string\u001b[0m\u001b[0;34m(\u001b[0m\u001b[0;34m)\u001b[0m\u001b[0;34m)\u001b[0m\u001b[0;34m\u001b[0m\u001b[0;34m\u001b[0m\u001b[0m\n",
            "\u001b[0;31mNameError\u001b[0m: name 'Estudiante' is not defined"
          ]
        }
      ]
    }
  ]
}